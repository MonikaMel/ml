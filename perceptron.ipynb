{
 "cells": [
  {
   "cell_type": "code",
   "execution_count": 23,
   "metadata": {},
   "outputs": [],
   "source": [
    "import numpy as np"
   ]
  },
  {
   "cell_type": "code",
   "execution_count": 18,
   "metadata": {},
   "outputs": [],
   "source": [
    "class PerceptronLearningAlgorithm:\n",
    "    def __init__(self):\n",
    "        return \n",
    "    \n",
    "    def prediction(self, wTx):\n",
    "        if wTx >= 0:\n",
    "            return 1\n",
    "        else:\n",
    "            return 0\n",
    "        \n",
    "    def weights_fit(self, X, Y, iters=100):\n",
    "        self.weights = np.zeros(X.shape[1])\n",
    "        self.bias = 0\n",
    "        iteration = 0\n",
    "        while iteration <= iters:\n",
    "            lacks = 0\n",
    "            for x, y in zip(X, Y):\n",
    "                wTx = x.dot(self.weights) + self.bias\n",
    "                lack = y - self.prediction(wTx)\n",
    "                if lack != 0:\n",
    "                    self.weights += lack * x\n",
    "                    self.bias += lack\n",
    "                    lacks += 1\n",
    "                    \n",
    "            if lacks == 0:\n",
    "                break\n",
    "            iteration += 1"
   ]
  },
  {
   "cell_type": "code",
   "execution_count": 19,
   "metadata": {},
   "outputs": [
    {
     "data": {
      "text/plain": [
       "array([0., 0.])"
      ]
     },
     "execution_count": 19,
     "metadata": {},
     "output_type": "execute_result"
    }
   ],
   "source": [
    "np.zeros(2)"
   ]
  },
  {
   "cell_type": "code",
   "execution_count": 20,
   "metadata": {},
   "outputs": [],
   "source": [
    "or_x_data = np.array([(0,0), (0,1), (1,0), (1,1)])\n",
    "or_y_data = np.array([0, 1, 1, 1])\n",
    "\n",
    "t = PerceptronLearningAlgorithm()"
   ]
  },
  {
   "cell_type": "code",
   "execution_count": 21,
   "metadata": {},
   "outputs": [],
   "source": [
    "t.weights_fit(or_x_data, or_y_data, iters = 20)"
   ]
  },
  {
   "cell_type": "code",
   "execution_count": 25,
   "metadata": {},
   "outputs": [
    {
     "name": "stdout",
     "output_type": "stream",
     "text": [
      "[1. 1.] -1\n"
     ]
    }
   ],
   "source": [
    "print(t.weights, t.bias)"
   ]
  },
  {
   "cell_type": "code",
   "execution_count": null,
   "metadata": {},
   "outputs": [],
   "source": []
  }
 ],
 "metadata": {
  "kernelspec": {
   "display_name": "Python 3",
   "language": "python",
   "name": "python3"
  },
  "language_info": {
   "codemirror_mode": {
    "name": "ipython",
    "version": 3
   },
   "file_extension": ".py",
   "mimetype": "text/x-python",
   "name": "python",
   "nbconvert_exporter": "python",
   "pygments_lexer": "ipython3",
   "version": "3.7.9"
  }
 },
 "nbformat": 4,
 "nbformat_minor": 4
}
